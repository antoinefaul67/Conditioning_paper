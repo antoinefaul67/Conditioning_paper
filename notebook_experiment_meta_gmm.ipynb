{
 "cells": [
  {
   "cell_type": "code",
   "execution_count": 1,
   "id": "20aca4de-f28f-4144-93af-9d0da91244b9",
   "metadata": {},
   "outputs": [
    {
     "name": "stdout",
     "output_type": "stream",
     "text": [
      "WARNING:tensorflow:From C:\\Users\\antoi\\Downloads\\GMCM-main\\GMCM-main\\myenv2\\Lib\\site-packages\\tf_keras\\src\\losses.py:2976: The name tf.losses.sparse_softmax_cross_entropy is deprecated. Please use tf.compat.v1.losses.sparse_softmax_cross_entropy instead.\n",
      "\n",
      "WARNING:tensorflow:From C:\\Users\\antoi\\Downloads\\GMCM-main\\GMCM-main\\myenv2\\Lib\\site-packages\\tensorflow_probability\\python\\internal\\backend\\numpy\\_utils.py:48: The name tf.logging.TaskLevelStatusMessage is deprecated. Please use tf.compat.v1.logging.TaskLevelStatusMessage instead.\n",
      "\n",
      "WARNING:tensorflow:From C:\\Users\\antoi\\Downloads\\GMCM-main\\GMCM-main\\myenv2\\Lib\\site-packages\\tensorflow_probability\\python\\internal\\backend\\numpy\\_utils.py:48: The name tf.control_flow_v2_enabled is deprecated. Please use tf.compat.v1.control_flow_v2_enabled instead.\n",
      "\n"
     ]
    }
   ],
   "source": [
    "import warnings\n",
    "warnings.filterwarnings('ignore')\n",
    "import numpy as np\n",
    "import scipy as sc\n",
    "import tensorflow as tf\n",
    "import tensorflow_probability as tfp\n",
    "tfd=tfp.distributions\n",
    "tfb=tfp.bijectors\n",
    "from scipy import io\n",
    "import time\n",
    "import matplotlib.pyplot as plt\n",
    "from sklearn import mixture\n",
    "import joblib as jbl\n",
    "import sys\n",
    "import sklearn\n",
    "import pandas as pd\n",
    "import seaborn as sns\n",
    "from pathlib import Path\n",
    "from mixture_models import GMCM, GMC\n",
    "import utils as utl\n",
    "import os\n",
    "from scipy.stats import multivariate_normal\n",
    "import rpy2\n",
    "from scipy.stats import norm\n",
    "from transport import transport, extract_marginal_gmms, obtain_quantiles_weights"
   ]
  },
  {
   "cell_type": "code",
   "execution_count": 2,
   "id": "509d23f8-81f5-4e6e-86f8-f478eebb8cc5",
   "metadata": {},
   "outputs": [],
   "source": [
    "import random\n",
    "random.seed(291025)"
   ]
  },
  {
   "cell_type": "code",
   "execution_count": 3,
   "id": "3ff0817c-78c6-4ea3-a942-8266ba1c353e",
   "metadata": {},
   "outputs": [],
   "source": [
    "os.chdir('C:\\\\Users\\\\antoi\\\\Documents\\\\UNIBE\\\\Conditioning\\\\Paper conditioning\\\\experiments')\n",
    "df = pd.read_csv(\"meta_gmcm_gaussian_marginals_24_10.csv\").iloc[:,1:3].astype('float32').to_numpy()\n",
    "#os.chdir('C:\\\\Users\\\\antoi\\\\Documents\\\\UNIBE\\\\Conditioning\\\\Paper conditioning\\\\experiments')\n",
    "#df = pd.read_csv(\"gmm_2d_new_parameters.csv\").iloc[:,1:3].astype('float32').to_numpy()\n",
    "data_trn,data_vld,data_tst = utl.splitData(df)"
   ]
  },
  {
   "cell_type": "code",
   "execution_count": 4,
   "id": "22ef56c4-50bc-4df2-804c-de984acc0e0f",
   "metadata": {},
   "outputs": [
    {
     "name": "stdout",
     "output_type": "stream",
     "text": [
      "Number of samples = 1000, Number of dimensions = 2\n",
      "Learning Marginals\n",
      "Marginals learnt in 1.88 s.\n",
      "@ Iter:0,                         Training error: -6.3,                         Validation error: nan,                         Time Elapsed: 3.1 s\n",
      "@ Iter:1000,                         Training error: -6.1,                         Validation error: nan,                         Time Elapsed: 7.1 s\n",
      "@ Iter:2000,                         Training error: -6.4,                         Validation error: nan,                         Time Elapsed: 11.2 s\n",
      "@ Iter:3000,                         Training error: -6.5,                         Validation error: nan,                         Time Elapsed: 15.4 s\n",
      "@ Iter:4000,                         Training error: -6.4,                         Validation error: nan,                         Time Elapsed: 19.5 s\n",
      "@ Iter:5000,                         Training error: -6.3,                         Validation error: nan,                         Time Elapsed: 23.9 s\n",
      "@ Iter:6000,                         Training error: -6.3,                         Validation error: nan,                         Time Elapsed: 28.2 s\n"
     ]
    }
   ],
   "source": [
    "\n",
    "n_comps=2\n",
    "nsamps,ndims = df.shape\n",
    "print(f'Number of samples = {nsamps}, Number of dimensions = {ndims}')\n",
    "\n",
    "gmcm = GMCM(ndims)\n",
    "gmcm.fit_dist_IFM(data_trn,\n",
    "                 n_comps=n_comps,\n",
    "                 method=\"GMCM\",\n",
    "                 data_vld= None,# fixed number of components\n",
    "                                    batch_size=10,\n",
    "                                    max_iters=6001,\n",
    "                                    regularize=True,\n",
    "                                    init = 'gmm', #(init option: 'gmm' warm starts gmcm learning compared to 'random')\n",
    "                                    print_interval=1000)"
   ]
  },
  {
   "cell_type": "code",
   "execution_count": 5,
   "id": "91f30764-fc4b-4956-b40a-cfe3ad1f5264",
   "metadata": {},
   "outputs": [],
   "source": [
    "list_indexes =  range(ndims)    ## depends on the problem\n",
    "logits,mus,covs,_ = utl.vec2gmm_params(gmcm.ndims,gmcm.ncomps,gmcm.gmc.params)\n",
    "alphas = tf.math.softmax(logits)\n",
    "#dim_remove = list(set(list(range(self.ndims)))-set(dim_list))\n",
    "mus_new = tf.gather(mus,list_indexes, axis=1)\n",
    "covs_new = tf.TensorArray(tf.float32,gmcm.ncomps)\n",
    "for k in range(gmcm.ncomps):\n",
    "    temp_mat = covs[k].numpy()\n",
    "    covs_new = covs_new.write(k,temp_mat[np.ix_(list_indexes, list_indexes)])\n",
    "covs_new = covs_new.stack()"
   ]
  },
  {
   "cell_type": "code",
   "execution_count": 6,
   "id": "d1ad8681-88f7-4847-ad51-e97f56976d35",
   "metadata": {},
   "outputs": [],
   "source": [
    "data_tst_uniform = gmcm.marg_bijector.inverse(data_tst)\n",
    "data_tst_latent = gmcm.gmc.distribution.bijector.inverse(data_tst_uniform)"
   ]
  },
  {
   "cell_type": "code",
   "execution_count": 7,
   "id": "62a191b3-11a7-418d-bead-882e7d07d539",
   "metadata": {},
   "outputs": [],
   "source": [
    "dimension_predict = 1\n",
    "dimension_joint = ndims"
   ]
  },
  {
   "cell_type": "code",
   "execution_count": 8,
   "id": "91f62523-5e97-4f3b-9830-33a740cba3d3",
   "metadata": {},
   "outputs": [],
   "source": [
    "size_test = np.shape(data_tst)[0] # size of the test dataset\n",
    "n_samples = 1000 # number of samples from the conditional distribution that we want to get\n",
    "cond_samples_gmcm = []\n",
    "from scipy.stats import multivariate_normal\n",
    "\n",
    "# Obtain parameters for marginals and for latents\n",
    "quantiles_weights_list = obtain_quantiles_weights(gmcm)\n",
    "marg_info_list = extract_marginal_gmms(gmcm) # this works fine\n",
    "logits, mus, covs,_ = utl.vec2gmm_params(gmcm.ndims,gmcm.ncomps,gmcm.gmc.params)\n",
    "latent_weights = tf.math.softmax(logits)\n",
    "\n",
    "# Let's precompute the matrices required\n",
    "Sigma22_inv_list = []\n",
    "Sigma12_Sigma22_inv_list = []\n",
    "cov_cond_list = []\n",
    "for j in range(n_comps):\n",
    "    cov_matrix = covs_new[j].numpy()\n",
    "    Sigma22 = cov_matrix[dimension_predict:dimension_joint, dimension_predict:dimension_joint]\n",
    "    Sigma12 = cov_matrix[:dimension_predict, dimension_predict:dimension_joint]\n",
    "    Sigma11 = cov_matrix[:dimension_predict, :dimension_predict]\n",
    "    Sigma22_inv = np.linalg.inv(Sigma22)\n",
    "    Sigma12_Sigma22_inv = Sigma12 @ Sigma22_inv\n",
    "    cov_cond = Sigma11 - Sigma12_Sigma22_inv @ Sigma12.T\n",
    "    Sigma12_Sigma22_inv_list.append(Sigma12_Sigma22_inv)\n",
    "    cov_cond_list.append(cov_cond)\n",
    "parameters = []\n",
    "for i in range(0,size_test):\n",
    "    mean_conds = np.zeros(n_comps)\n",
    "    cov_conds = np.zeros(n_comps)\n",
    "    risk_vector_gmcm = np.zeros((n_samples,dimension_joint))\n",
    "    conditioning_value = data_tst_latent[i,dimension_predict:dimension_joint].numpy() # condition on last variables\n",
    "    new_alphas = np.zeros(n_comps)\n",
    "    risk_vector_gmcm = np.zeros((n_samples, dimension_joint))\n",
    "    for j in range(0,n_comps):\n",
    "        # margin for one of the components\n",
    "        marginal = multivariate_normal.pdf(\n",
    "            conditioning_value,\n",
    "            mean = mus_new[j][dimension_predict:dimension_joint], \n",
    "            cov = covs_new[j][dimension_predict:dimension_joint,dimension_predict:dimension_joint])\n",
    "        # what's this do? compute the *total* marginal density, aggregated over all components?\n",
    "        joint = 0\n",
    "        for k in range(0,n_comps):\n",
    "            joint += alphas[k] * multivariate_normal.pdf(\n",
    "                conditioning_value, mean = mus_new[k][dimension_predict:dimension_joint], \n",
    "                cov = covs_new[k][dimension_predict:dimension_joint,dimension_predict:dimension_joint]\n",
    "            )\n",
    "        # What are 'new alphas'? Is this just prior * likelihood? I.e., prob of a cluster given known values?\n",
    "        if joint != 0:\n",
    "            new_alphas[j] = alphas[j] * (marginal / joint)\n",
    "        else:\n",
    "            new_alphas[j] = 0\n",
    "    \n",
    "    # Deal with rounding error; if new_alphas.sum() == 0, there's a problem somewhere :)\n",
    "    new_alphas /= new_alphas.sum()\n",
    "    # For each sample, pick a cluster\n",
    "    component_choices = np.random.choice(n_comps, size = n_samples, p = new_alphas)\n",
    "    risk_vector_gmcm = np.zeros((n_samples, dimension_joint))\n",
    "    for j in range(0, n_comps):\n",
    "        mask = component_choices == j\n",
    "        n_j = np.sum(mask)\n",
    "        if n_j == 0:\n",
    "            continue\n",
    "        mean_vector = mus_new[j].numpy()\n",
    "        Sigma12_Sigma22_inv = Sigma12_Sigma22_inv_list[j]\n",
    "        cov_cond = cov_cond_list[j]\n",
    "        conditioning_diff = conditioning_value - mean_vector[dimension_predict:dimension_joint]\n",
    "        conditioning_diff = conditioning_diff[:, np.newaxis]\n",
    "        mean_cond_batch = mean_vector[:dimension_predict] + (Sigma12_Sigma22_inv @ conditioning_diff).flatten()\n",
    "        # generate Normal data (in latent space) with required mean and sigma\n",
    "        samples = np.random.multivariate_normal(mean = mean_cond_batch, cov = cov_cond, size = n_j)\n",
    "        risk_vector_gmcm[mask, :dimension_predict] = samples\n",
    "        mean_conds[j] = mean_cond_batch\n",
    "        cov_conds [j] = cov_cond\n",
    "    risk_vector_gmcm[:, dimension_predict:dimension_joint] = conditioning_value\n",
    "    #print(i)\n",
    "    risk_vector_gmcm = risk_vector_gmcm.astype('float32')\n",
    "    # risk_vector_gmcm = gmcm.gmc.distribution.bijector(risk_vector_gmcm) # to copula (uniform) space\n",
    "    # risk_vector_gmcm = gmcm.marg_bijector(risk_vector_gmcm) # transform marginals\n",
    "    risk_vector_gmcm = transport(risk_vector_gmcm, marg_info_list, latent_weights, mus, covs, quantiles_weights_list)\n",
    "    cond_samples_gmcm.append(risk_vector_gmcm)\n",
    "    parameters.append([new_alphas,mean_conds,cov_conds])"
   ]
  },
  {
   "cell_type": "code",
   "execution_count": 9,
   "id": "410c5f79-d2c1-4c99-98eb-c4e2d2aa995f",
   "metadata": {},
   "outputs": [],
   "source": [
    "a=np.linspace(-3,4,500)\n",
    "grid = np.column_stack((a,a))\n",
    "grid = grid.astype('float32')\n",
    "grid = gmcm.marg_bijector.inverse(grid)\n",
    "grid = gmcm.gmc.distribution.bijector.inverse(grid)\n",
    "\n",
    "cdfs = []\n",
    "for i in range(0,size_test):\n",
    "     conditioned_mixture = tfd.MixtureSameFamily(tfd.Categorical(probs=parameters[i][0]),\n",
    "                                          tfd.Normal(loc=parameters[i][1],scale=np.sqrt(parameters[i][2])))\n",
    "     cdfs.append([tfd.MixtureSameFamily.cdf(conditioned_mixture,x).numpy() for x in  grid.numpy()[:,0]])"
   ]
  },
  {
   "cell_type": "code",
   "execution_count": 10,
   "id": "f1a7f4e7-3f8f-4864-928b-00468347a1df",
   "metadata": {},
   "outputs": [],
   "source": [
    "def compute_analytical_cdf_conditioned_meta_mixture(x,y,means,covariances, weight,K, dimension_joint, dimension_predict):\n",
    "    mean_conds = []\n",
    "    cov_conds = []\n",
    "    GMM_1 = tfd.MixtureSameFamily(mixture_distribution=tfd.Categorical(probs=weight.tolist()),\n",
    "                                     components_distribution=tfd.Normal(loc=means[:,0].tolist(),\n",
    "                                                                        scale=[1,1]))\n",
    "    GMM_2 = tfd.MixtureSameFamily(mixture_distribution=tfd.Categorical(probs=weight.tolist()),\n",
    "                                     components_distribution=tfd.Normal(loc=means[:,1].tolist(),\n",
    "                                                                        scale=[1,1]))\n",
    "    y =  norm.cdf(x=y)\n",
    "    f2 = lambda p: GMM_2.cdf(p) - y\n",
    "    #y=ppf(y, loc=0, scale=1)\n",
    "    y = tfp.math.find_root_chandrupatla(f2)[0]\n",
    "    new_alphas = np.zeros(K)\n",
    "    x = norm.cdf(x=x)\n",
    "    f1 = lambda p: GMM_1.cdf(p) - x\n",
    "    x = tfp.math.find_root_chandrupatla(f1)[0]\n",
    "    density=0\n",
    "    for i in range(0,K):\n",
    "        marginal = multivariate_normal.pdf(x, mean= means[i][dimension_predict:dimension_joint], \n",
    "                                           cov=np.sqrt(covariances[i][dimension_predict:dimension_joint,dimension_predict:dimension_joint]))\n",
    "        joint = 0\n",
    "        for k in range(0,K):\n",
    "            joint += weight[k] * multivariate_normal.pdf(x, mean= means[k][dimension_predict:dimension_joint], \n",
    "                                           cov=np.sqrt(covariances[k][dimension_predict:dimension_joint,dimension_predict:dimension_joint]))\n",
    "        if joint != 0:\n",
    "            new_alphas[i] = weight[i] * (marginal / joint)\n",
    "        else:\n",
    "            new_alphas[i] = 0\n",
    "        #new_alphas /= new_alphas.sum()\n",
    "        mean_vector = means[i]\n",
    "        cov_matrix = covariances[i]\n",
    "        mean_cond = mean_vector[:dimension_predict] + np.dot(cov_matrix[:dimension_predict, dimension_predict:dimension_joint] \\\n",
    "            @ np.linalg.inv(cov_matrix[dimension_predict:dimension_joint, dimension_predict:dimension_joint]),\n",
    "            (np.array(x) - mean_vector[dimension_predict:dimension_joint]))\n",
    "        cov_cond = cov_matrix[:dimension_predict, :dimension_predict] - cov_matrix[:dimension_predict, dimension_predict:dimension_joint] \\\n",
    "            @ np.linalg.solve(cov_matrix[dimension_predict:dimension_joint, dimension_predict:dimension_joint],\n",
    "            cov_matrix[dimension_predict:dimension_joint, :dimension_predict])\n",
    "        mean_conds.append(mean_cond)\n",
    "        cov_conds.append(cov_cond)\n",
    "        density = density + (new_alphas[i] * norm.cdf(x=y, loc=mean_cond, scale=np.sqrt(cov_cond)))\n",
    "    #return (density, mean_conds, cov_conds,new_alphas,y)\n",
    "    return density"
   ]
  },
  {
   "cell_type": "code",
   "execution_count": 11,
   "id": "d396223a-efdf-476c-9f74-22eb1562065c",
   "metadata": {},
   "outputs": [
    {
     "data": {
      "text/plain": [
       "<matplotlib.legend.Legend at 0x2d0a6d69370>"
      ]
     },
     "execution_count": 11,
     "metadata": {},
     "output_type": "execute_result"
    },
    {
     "data": {
      "image/png": "[encoded data removed]",
      "text/plain": [
       "<Figure size 640x480 with 4 Axes>"
      ]
     },
     "metadata": {},
     "output_type": "display_data"
    }
   ],
   "source": [
    "means = np.array([[2,2],[-2,-2]])\n",
    "covariances = np.array([[[1,0.5],[0.5,1]],[[1,0.5],[0.5,1]]])\n",
    "weight = np.array([0.5,0.5])\n",
    "X = np.linspace(-3,4,500)\n",
    "Y_1 = [compute_analytical_cdf_conditioned_meta_mixture(y=z,x=data_tst[1,1],means=means,covariances=covariances, weight=weight,K=2, dimension_joint=2, dimension_predict=1) for z in X]\n",
    "Y_2 = [compute_analytical_cdf_conditioned_meta_mixture(y=z,x=data_tst[2,1],means=means,covariances=covariances, weight=weight,K=2, dimension_joint=2, dimension_predict=1) for z in X]\n",
    "Y_55 = [compute_analytical_cdf_conditioned_meta_mixture(y=z,x=data_tst[55,1],means=means,covariances=covariances, weight=weight,K=2, dimension_joint=2, dimension_predict=1) for z in X]\n",
    "Y_60 = [compute_analytical_cdf_conditioned_meta_mixture(y=z,x=data_tst[60,1],means=means,covariances=covariances, weight=weight,K=2, dimension_joint=2, dimension_predict=1) for z in X]\n",
    "y_55=cdfs[55]\n",
    "y_2 = cdfs[2]\n",
    "y_1= cdfs[1]\n",
    "y_60 = cdfs[60]\n",
    "x_1 = r\"x_{1}\"\n",
    "#z =latex2sympy(x_1)\n",
    "x_55 = np.round(data_tst[55,1],2)\n",
    "x_60 = np.round(data_tst[60,1],2)\n",
    "x_2 = np.round(data_tst[2,1],2)\n",
    "x_1 = np.round(data_tst[1,1],2)\n",
    "fig, axs = plt.subplots(2, 2)\n",
    "axs[0, 0].plot(X, y_55, color=\"red\", label=\"True CDF\")\n",
    "axs[0, 0].plot(X, np.reshape(Y_55,(500,)), color=\"blue\", label=\"GMCM\")\n",
    "axs[0, 0].set_title(r'Conditioning at $x_{2}$ = %s'%(x_55))\n",
    "axs[0, 1].plot(X, y_1, color=\"red\", label=\"True CDF\")\n",
    "axs[0, 1].plot(X, np.reshape(Y_1,(500,)), color=\"blue\", label=\"GMCM\")\n",
    "axs[0, 1].set_title(r'Conditioning at $x_{2}$ =  %s'%(x_1))\n",
    "axs[1, 0].plot(X, y_2, color=\"red\",label=\"True CDF\")\n",
    "axs[1, 0].plot(X, np.reshape(Y_2,(500,)), color=\"blue\", label=\"GMCM\")\n",
    "axs[1, 0].set_title('Conditioning at $x_{2}$= %s'%(x_2))\n",
    "axs[1, 1].plot(X, y_60, color=\"red\",label=\"True CDF\")\n",
    "axs[1, 1].plot(X, np.reshape(Y_60,(500,)), color=\"blue\", label=\"GMCM\")\n",
    "axs[1, 1].set_title('Conditioning at $x_{2}$ = %s'%(x_60))\n",
    "\n",
    "for ax in axs.flat:\n",
    "    ax.set(xlabel=r'$x_{1}$', ylabel=r'$x_{2}$')\n",
    "\n",
    "# Hide x labels and tick labels for top plots and y ticks for right plots.\n",
    "for ax in axs.flat:\n",
    "    ax.label_outer()\n",
    "handles, labels = ax.get_legend_handles_labels()\n",
    "fig.legend(handles, labels, loc=(0.45,0.20))"
   ]
  },
  {
   "cell_type": "code",
   "execution_count": 14,
   "id": "3176f58c-af0f-4578-a90f-a8b5e325da28",
   "metadata": {},
   "outputs": [
    {
     "name": "stdout",
     "output_type": "stream",
     "text": [
      "Number of samples = 1000, Number of dimensions = 2\n",
      "Learning Marginals\n",
      "Marginals learnt in 1.67 s.\n"
     ]
    }
   ],
   "source": [
    "\n",
    "n_comps=1\n",
    "nsamps,ndims = df.shape\n",
    "print(f'Number of samples = {nsamps}, Number of dimensions = {ndims}')\n",
    "\n",
    "gc= GMCM(ndims)\n",
    "gc.fit_dist_IFM(data_trn,\n",
    "                 n_comps=n_comps,\n",
    "                 method=\"GC\",\n",
    "                 data_vld= None,# fixed number of components\n",
    "                                    batch_size=10,\n",
    "                                    max_iters=6001,\n",
    "                                    regularize=True,\n",
    "                                    init = 'gmm', #(init option: 'gmm' warm starts gmcm learning compared to 'random')\n",
    "                                    print_interval=1000)"
   ]
  },
  {
   "cell_type": "code",
   "execution_count": 15,
   "id": "6f1165f4-6618-4343-bd61-b3e1bcf6a359",
   "metadata": {},
   "outputs": [],
   "source": [
    "list_indexes = [0,1] ## depends on the problem\n",
    "logits,mus,covs,_ = utl.vec2gmm_params(gc.ndims,gc.ncomps,gc.gmc.params)\n",
    "alphas = tf.math.softmax(logits)\n",
    "#dim_remove = list(set(list(range(self.ndims)))-set(dim_list))\n",
    "mus_new = tf.gather(mus,list_indexes, axis=1)\n",
    "covs_new = tf.TensorArray(tf.float32,gc.ncomps)\n",
    "for k in range(gc.ncomps):\n",
    "    temp_mat = covs[k].numpy()\n",
    "    covs_new = covs_new.write(k,temp_mat[np.ix_(list_indexes, list_indexes)])\n",
    "covs_new = covs_new.stack()"
   ]
  },
  {
   "cell_type": "code",
   "execution_count": 16,
   "id": "532ff7a4-f7b2-4129-ad98-3c0b433de8a5",
   "metadata": {},
   "outputs": [],
   "source": [
    "#cov_matrix = covs_new[0].numpy()\n",
    "data_trn_uniform = gc.marg_bijector.inverse(data_trn)\n",
    "data_trn_latent = norm.ppf(data_trn_uniform)\n",
    "mean_vector = np.mean(data_trn_latent, axis=0)\n",
    "cov_matrix = np.cov(data_trn_latent, rowvar=False)\n",
    "Sigma22 = cov_matrix[dimension_predict:dimension_joint, dimension_predict:dimension_joint]\n",
    "Sigma12 = cov_matrix[:dimension_predict, dimension_predict:dimension_joint]\n",
    "Sigma11 = cov_matrix[:dimension_predict, :dimension_predict]\n",
    "Sigma22_inv = np.linalg.inv(Sigma22)\n",
    "Sigma12_Sigma22_inv = Sigma12 @ Sigma22_inv\n",
    "cov_cond = Sigma11 - Sigma12_Sigma22_inv @ Sigma12.T\n",
    "from scipy.stats import norm, multivariate_normal as mvn\n",
    "method = \"GC\"\n",
    "if method == \"GC\":\n",
    "    data_tst_uniform = gc.marg_bijector.inverse(data_tst)\n",
    "    data_tst_latent = norm.ppf(data_tst_uniform)\n",
    "    #mean_vector = mus_new[0]\n",
    "    #mean_vector = np.mean(data_trn_latent)\n",
    "    #cov_matrix = n\n",
    "    dimension_predict = 1 # dimension of the vector that we want to predict\n",
    "    dimension_joint = 2 # dimension of the joint distribution\n",
    "    size_test = np.shape(data_tst)[0] # size of the test dataset\n",
    "    n_samples = 1000 # number of samples from the conditional distribution that we want to get\n",
    "    cond_samples_gc = []\n",
    "    #cov_matrix = covs_new[0]\n",
    "    for index in range(data_tst_latent.shape[0]):\n",
    "        risk_vector_gmcm = np.zeros((n_samples,dimension_joint))\n",
    "        conditioning_value = data_tst_latent[index,dimension_predict:dimension_joint]\n",
    "        conditioning_diff = conditioning_value - mean_vector[dimension_predict:dimension_joint]\n",
    "        conditioning_diff = conditioning_diff[:, np.newaxis]\n",
    "        mean_cond_batch = mean_vector[:dimension_predict] + (Sigma12_Sigma22_inv @ conditioning_diff).flatten()\n",
    "        # generate Normal data (in latent space) with required mean and sigma\n",
    "        samples = np.random.multivariate_normal(mean = mean_cond_batch, cov = cov_cond, size = n_samples)\n",
    "        risk_vector_gmcm[:, :dimension_predict] = samples\n",
    "        risk_vector_gmcm[:,dimension_predict:dimension_joint] = conditioning_value\n",
    "        risk_vector_gmcm = risk_vector_gmcm.astype('float32')\n",
    "        risk_vector_gmcm = norm.cdf(risk_vector_gmcm).astype(\"float32\")\n",
    "        risk_vector_gmcm = gc.marg_bijector(risk_vector_gmcm)\n",
    "        cond_samples_gc.append(risk_vector_gmcm)"
   ]
  },
  {
   "cell_type": "code",
   "execution_count": 17,
   "id": "b1244bf8-082a-4c9b-8c8a-abbf4cab67fe",
   "metadata": {},
   "outputs": [
    {
     "name": "stdout",
     "output_type": "stream",
     "text": [
      "Number of samples = 1000, Number of dimensions = 2\n",
      "Learning Marginals\n",
      "Marginals learnt in 1.7 s.\n"
     ]
    }
   ],
   "source": [
    "\n",
    "n_comps=2\n",
    "nsamps,ndims = df.shape\n",
    "print(f'Number of samples = {nsamps}, Number of dimensions = {ndims}')\n",
    "\n",
    "tgmm = GMCM(ndims)\n",
    "tgmm.fit_dist_IFM(data_trn,\n",
    "                 n_comps=n_comps,\n",
    "                 method=\"TGMM\",\n",
    "                 data_vld= None,# fixed number of components\n",
    "                                    batch_size=10,\n",
    "                                    max_iters=6001,\n",
    "                                    regularize=True,\n",
    "                                    init = 'gmm', #(init option: 'gmm' warm starts gmcm learning compared to 'random')\n",
    "                                    print_interval=1000)"
   ]
  },
  {
   "cell_type": "code",
   "execution_count": 18,
   "id": "3c61f4ef-ddc3-452b-b65b-9cbb684bc086",
   "metadata": {},
   "outputs": [],
   "source": [
    "list_indexes = [0,1] ## depends on the problem\n",
    "logits,mus,covs,_ = utl.vec2gmm_params(tgmm.ndims,tgmm.ncomps,tgmm.gmc.params)\n",
    "alphas = tf.math.softmax(logits)\n",
    "#dim_remove = list(set(list(range(self.ndims)))-set(dim_list))\n",
    "mus_new = tf.gather(mus,list_indexes, axis=1)\n",
    "covs_new = tf.TensorArray(tf.float32,tgmm.ncomps)\n",
    "for k in range(tgmm.ncomps):\n",
    "    temp_mat = covs[k].numpy()\n",
    "    covs_new = covs_new.write(k,temp_mat[np.ix_(list_indexes, list_indexes)])\n",
    "covs_new = covs_new.stack()"
   ]
  },
  {
   "cell_type": "code",
   "execution_count": 19,
   "id": "05027f52-4f61-436e-a24c-16cb8d56c73b",
   "metadata": {},
   "outputs": [],
   "source": [
    "method = \"TGMM\"\n",
    "if method == \"TGMM\":\n",
    "    data_tst_uniform = tgmm.marg_bijector.inverse(data_tst)\n",
    "    data_tst_latent = norm.ppf(data_tst_uniform)\n",
    "    dimension_predict = 1 # dimension of the vector that we want to predict\n",
    "    dimension_joint = 2 # dimension of the joint distribution\n",
    "    size_test = np.shape(data_tst)[0] # size of the test dataset\n",
    "    n_samples = 1000 # number of samples from the conditional distribution that we want to get\n",
    "    cond_samples_tgmm= []\n",
    "    for i in range(0,size_test):\n",
    "        risk_vector_gmcm = np.zeros((n_samples,dimension_joint))\n",
    "        conditioning_value = data_tst_latent[i,dimension_predict:dimension_joint]\n",
    "        new_alphas = np.zeros(n_comps)\n",
    "        # get new weights\n",
    "        for j in range(0,n_comps):\n",
    "            marginal = multivariate_normal.pdf(conditioning_value, mean= mus_new[j][dimension_predict:dimension_joint], \n",
    "                                           cov=covs_new[j][dimension_predict:dimension_joint,dimension_predict:dimension_joint])\n",
    "            joint = 0\n",
    "            for k in range(0,n_comps):\n",
    "                joint += alphas[k] * multivariate_normal.pdf(conditioning_value, mean= mus_new[k][dimension_predict:dimension_joint], \n",
    "                                           cov=covs_new[k][dimension_predict:dimension_joint,dimension_predict:dimension_joint])\n",
    "            if joint != 0:\n",
    "                new_alphas[j] = alphas[j] * (marginal / joint)\n",
    "            else:\n",
    "                new_alphas[j] = 0\n",
    "        for n in range(0,n_samples):\n",
    "            new_component = np.argmax(np.random.multinomial(1, pvals=new_alphas))  # Find the index of the maximum value\n",
    "            mean_vector = mus_new[new_component]\n",
    "            cov_matrix = covs_new[new_component]\n",
    "\n",
    "        #mean_cond = mean_vector[:dimension_predict] + cov_matrix[:dimension_predict, dimension_predict:dimension_joint] \\\n",
    "            #@ np.linalg.solve(cov_matrix[dimension_predict:dimension_joint, dimension_predict:dimension_joint],\n",
    "            #np.array(patient[dimension_predict:dimension_joint]) - mean_vector[dimension_predict:dimension_joint])\n",
    "            mean_cond = mean_vector[:dimension_predict] + np.dot(cov_matrix[:dimension_predict, dimension_predict:dimension_joint] \\\n",
    "                @ np.linalg.inv(cov_matrix[dimension_predict:dimension_joint, dimension_predict:dimension_joint]),\n",
    "                (np.array(conditioning_value) - mean_vector[dimension_predict:dimension_joint]))\n",
    "            cov_cond = cov_matrix[:dimension_predict, :dimension_predict] - cov_matrix[:dimension_predict, dimension_predict:dimension_joint] \\\n",
    "                @ np.linalg.solve(cov_matrix[dimension_predict:dimension_joint, dimension_predict:dimension_joint],\n",
    "                cov_matrix[dimension_predict:dimension_joint, :dimension_predict])\n",
    "\n",
    "            result = np.random.multivariate_normal(mean=mean_cond, cov=cov_cond)\n",
    "            risk_vector_gmcm[n,0:dimension_predict] = result\n",
    "        risk_vector_gmcm[:,dimension_predict:dimension_joint] =conditioning_value\n",
    "        risk_vector_gmcm = risk_vector_gmcm.astype('float32')\n",
    "        risk_vector_gmcm = norm.cdf(risk_vector_gmcm).astype(\"float32\")\n",
    "        risk_vector_gmcm = tgmm.marg_bijector(risk_vector_gmcm)\n",
    "        cond_samples_tgmm.append(risk_vector_gmcm)"
   ]
  },
  {
   "cell_type": "code",
   "execution_count": 20,
   "id": "d95ba3c2-eedc-4aba-8148-930584f1c301",
   "metadata": {},
   "outputs": [],
   "source": [
    "def logs_ensemble(obs, fct, m_axis=-1, bw=None):\n",
    "    # Move ensemble dimension to the last axis if not already\n",
    "    fct = np.moveaxis(fct, m_axis, -1)\n",
    "    M = fct.shape[-1]\n",
    "\n",
    "    # Silverman's rule of thumb for bandwidth if not provided\n",
    "    if bw is None:\n",
    "        sigmahat = np.std(fct, axis=-1)\n",
    "        q75 = np.quantile(fct, 0.75, axis=-1)\n",
    "        q25 = np.quantile(fct, 0.25, axis=-1)\n",
    "        iqr = q75 - q25\n",
    "        bw = 1.06 * np.minimum(sigmahat, iqr / 1.34) * (M ** (-1 / 5))\n",
    "        \n",
    "    bw = np.repeat(bw[..., np.newaxis], M, axis=-1)\n",
    "\n",
    "    # Weights for each ensemble member\n",
    "    w = np.ones(fct.shape) / M\n",
    "\n",
    "    # Compute Gaussian log density\n",
    "    def gaussian_log_pdf(x, mean, scale):\n",
    "        return -0.5 * np.log(2 * np.pi * scale**2) - ((x - mean) ** 2) / (2 * scale**2)\n",
    "\n",
    "    # Logarithmic score calculation for each observation\n",
    "    log_scores = np.empty_like(obs, dtype=float)\n",
    "    for i, x in np.ndenumerate(obs):\n",
    "        log_density = np.log(np.sum(\n",
    "            w[i] * np.exp(gaussian_log_pdf(x, fct[i], bw[i]))\n",
    "        ))\n",
    "        log_scores[i] = log_density\n",
    "\n",
    "    return -log_scores"
   ]
  },
  {
   "cell_type": "code",
   "execution_count": 21,
   "id": "bf4b0fee-b5bf-49c4-ace6-8d8005d37505",
   "metadata": {},
   "outputs": [],
   "source": [
    "from sklearn.neighbors import KernelDensity\n",
    "# Split the training data\n",
    "Y_train = np.reshape(data_trn[:, 0],(np.shape(data_trn)[0],1))  # First three columns (targets)\n",
    "X_train = np.reshape(data_trn[:, 1],(np.shape(data_trn)[0],1))  # Last two columns (features)\n",
    "\n",
    "# Combine both Y and X for KDE fitting\n",
    "train_data = data_trn\n",
    "\n",
    "# Split the test data\n",
    "X_test = data_tst[:, 1]  # Last two columns in test data\n",
    "\n",
    "#### Step 2: Fit KDE Model\n",
    "\n",
    "\n",
    "# Fit the KDE model on the joint data\n",
    "kde = KernelDensity(kernel='gaussian', bandwidth=1.0).fit(train_data)\n",
    "\n",
    "\n",
    "#### Step 3: Generate Samples from the Conditional Distribution\n",
    "\n",
    "def conditional_sample_kde(kde, X_cond, num_samples=10, tol=0.1):\n",
    "    \"\"\"\n",
    "    Generate samples from the conditional distribution P(Y|X) using the fitted KDE.\n",
    "\n",
    "    Parameters:\n",
    "    kde -- fitted KernelDensity model\n",
    "    X_cond -- ndarray of shape (n_samples, n_features)\n",
    "    num_samples -- number of samples to draw for each condition\n",
    "    tol -- tolerance to filter X samples close to X_cond\n",
    "\n",
    "    Returns:\n",
    "    samples -- ndarray of shape (n_samples, num_samples, n_targets)\n",
    "    \"\"\"\n",
    "               \n",
    "    n_targets = Y_train.shape[1]\n",
    "    n_features = X_train.shape[1]\n",
    "    \n",
    "    samples = np.zeros((X_cond.shape[0], num_samples, n_targets))\n",
    "\n",
    "    for i, x in enumerate(X_cond):\n",
    "        # Generate samples from KDE\n",
    "        joint_samples = kde.sample(num_samples * 100)  # Oversample initially\n",
    "        \n",
    "        # Split into Y and X parts\n",
    "        Y_samples = joint_samples[:, :n_targets]\n",
    "        X_samples = joint_samples[:, n_targets:]\n",
    "        \n",
    "        # Filter samples where X_samples are close to the given X_cond\n",
    "        close_samples_idx = np.all(np.abs(X_samples - x) < tol, axis=1)\n",
    "        close_Y_samples = Y_samples[close_samples_idx]\n",
    "        \n",
    "        if len(close_Y_samples) < num_samples:\n",
    "            raise ValueError(\"Not enough samples within tolerance. Increase tol or num_samples.\")\n",
    "\n",
    "        # Randomly choose the needed number of samples\n",
    "        chosen_indices = np.random.choice(len(close_Y_samples), num_samples, replace=False)\n",
    "        samples[i, :, :] = close_Y_samples[chosen_indices]\n",
    "\n",
    "    return samples\n",
    "\n",
    "# Generate samples from the conditional distribution\n",
    "num_samples_per_condition = 1000 # Number of samples to draw for each test example\n",
    "tol = 0.4# Tolerance to filter samples; adjust as needed\n",
    "samples = conditional_sample_kde(kde, X_test, num_samples=num_samples_per_condition, tol=tol)"
   ]
  },
  {
   "cell_type": "code",
   "execution_count": 22,
   "id": "cf4f0d47-0926-4912-aa70-6c28900e98b4",
   "metadata": {},
   "outputs": [],
   "source": [
    "import scoringrules as sr\n",
    "crps_score_gmcm = []\n",
    "logs_score_gmcm = []\n",
    "logs_score_gc = []\n",
    "logs_score_tgmm = []\n",
    "crps_score_gc = []\n",
    "logs_score_ckde = []\n",
    "crps_score_ckde= []\n",
    "crps_score_tgmm = []\n",
    "for i in range(size_test):\n",
    "    crps_score_gmcm.append(sr.crps_ensemble(data_tst[i,0:dimension_predict],\n",
    "    np.transpose(cond_samples_gmcm[i][:,0:dimension_predict])))\n",
    "    logs_score_gmcm.append(logs_ensemble(data_tst[i,0:dimension_predict],\n",
    "    np.transpose(cond_samples_gmcm[i][:,0:dimension_predict])))\n",
    "    crps_score_gc.append(sr.crps_ensemble(data_tst[i,0:dimension_predict],\n",
    "    np.transpose(cond_samples_gc[i][:,0:dimension_predict])))\n",
    "    logs_score_gc.append(logs_ensemble(data_tst[i,0:dimension_predict],\n",
    "    np.transpose(cond_samples_gc[i][:,0:dimension_predict])))\n",
    "    crps_score_tgmm.append(sr.crps_ensemble(data_tst[i,0:dimension_predict],\n",
    "    np.transpose(cond_samples_tgmm[i][:,0:dimension_predict])))\n",
    "    logs_score_tgmm.append(logs_ensemble(data_tst[i,0:dimension_predict],\n",
    "    np.transpose(cond_samples_tgmm[i][:,0:dimension_predict])))\n",
    "    crps_score_ckde.append(sr.crps_ensemble(data_tst[i,0:dimension_predict],\n",
    "    np.transpose(samples[i])))\n",
    "    logs_score_ckde.append(logs_ensemble(data_tst[i,0:dimension_predict],\n",
    "    np.transpose(samples[i])))"
   ]
  },
  {
   "cell_type": "code",
   "execution_count": 23,
   "id": "e55add23-7aab-48d6-82f7-5a501a7751d3",
   "metadata": {},
   "outputs": [
    {
     "data": {
      "text/plain": [
       "0.3009110293446942"
      ]
     },
     "execution_count": 23,
     "metadata": {},
     "output_type": "execute_result"
    }
   ],
   "source": [
    "np.mean(crps_score_gmcm)"
   ]
  },
  {
   "cell_type": "code",
   "execution_count": 24,
   "id": "5c2ee804-4aad-4113-93a0-fb7e2a734852",
   "metadata": {},
   "outputs": [
    {
     "data": {
      "text/plain": [
       "0.700171813336027"
      ]
     },
     "execution_count": 24,
     "metadata": {},
     "output_type": "execute_result"
    }
   ],
   "source": [
    "np.mean(logs_score_gmcm)"
   ]
  },
  {
   "cell_type": "code",
   "execution_count": 25,
   "id": "2584fc75-19de-4408-9aab-0e9b39b8a7cb",
   "metadata": {},
   "outputs": [
    {
     "data": {
      "text/plain": [
       "0.32842125854156845"
      ]
     },
     "execution_count": 25,
     "metadata": {},
     "output_type": "execute_result"
    }
   ],
   "source": [
    "np.mean(crps_score_gc)"
   ]
  },
  {
   "cell_type": "code",
   "execution_count": 26,
   "id": "f677efe9-1e7c-47a2-b656-9305b383fdd8",
   "metadata": {},
   "outputs": [
    {
     "data": {
      "text/plain": [
       "0.3186139083192341"
      ]
     },
     "execution_count": 26,
     "metadata": {},
     "output_type": "execute_result"
    }
   ],
   "source": [
    "np.mean(crps_score_tgmm)"
   ]
  },
  {
   "cell_type": "code",
   "execution_count": 27,
   "id": "ce22c4ac-a785-4ab3-afb3-1e37f2a63ee2",
   "metadata": {},
   "outputs": [
    {
     "data": {
      "text/plain": [
       "0.9228942343055272"
      ]
     },
     "execution_count": 27,
     "metadata": {},
     "output_type": "execute_result"
    }
   ],
   "source": [
    "np.mean(logs_score_gc)"
   ]
  },
  {
   "cell_type": "code",
   "execution_count": 28,
   "id": "774e32e0-a847-4780-9755-27e7aeef013b",
   "metadata": {},
   "outputs": [
    {
     "data": {
      "text/plain": [
       "0.8703777485278725"
      ]
     },
     "execution_count": 28,
     "metadata": {},
     "output_type": "execute_result"
    }
   ],
   "source": [
    "np.mean(logs_score_tgmm)"
   ]
  },
  {
   "cell_type": "code",
   "execution_count": 29,
   "id": "c0b8c0f1-7a09-4683-b4b9-257aef08dc5a",
   "metadata": {},
   "outputs": [
    {
     "data": {
      "text/plain": [
       "0.43104339390441637"
      ]
     },
     "execution_count": 29,
     "metadata": {},
     "output_type": "execute_result"
    }
   ],
   "source": [
    "np.mean(crps_score_ckde)"
   ]
  },
  {
   "cell_type": "code",
   "execution_count": 30,
   "id": "a250a90e-4eb4-4bd9-ac29-8016cf1390cd",
   "metadata": {},
   "outputs": [
    {
     "data": {
      "text/plain": [
       "1.3336570938280807"
      ]
     },
     "execution_count": 30,
     "metadata": {},
     "output_type": "execute_result"
    }
   ],
   "source": [
    "np.mean(logs_score_ckde)"
   ]
  }
 ],
 "metadata": {
  "kernelspec": {
   "display_name": "myenv2",
   "language": "python",
   "name": "myenv2"
  },
  "language_info": {
   "codemirror_mode": {
    "name": "ipython",
    "version": 3
   },
   "file_extension": ".py",
   "mimetype": "text/x-python",
   "name": "python",
   "nbconvert_exporter": "python",
   "pygments_lexer": "ipython3",
   "version": "3.12.3"
  }
 },
 "nbformat": 4,
 "nbformat_minor": 5
}

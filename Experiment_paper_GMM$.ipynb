{
 "cells": [
  {
   "cell_type": "code",
   "execution_count": 1,
   "id": "251b392b-8567-4249-9bda-f94a9a170fa8",
   "metadata": {},
   "outputs": [
    {
     "name": "stdout",
     "output_type": "stream",
     "text": [
      "WARNING:tensorflow:From C:\\Users\\antoi\\Downloads\\GMCM-main\\GMCM-main\\myenv2\\Lib\\site-packages\\tf_keras\\src\\losses.py:2976: The name tf.losses.sparse_softmax_cross_entropy is deprecated. Please use tf.compat.v1.losses.sparse_softmax_cross_entropy instead.\n",
      "\n",
      "WARNING:tensorflow:From C:\\Users\\antoi\\Downloads\\GMCM-main\\GMCM-main\\myenv2\\Lib\\site-packages\\tensorflow_probability\\python\\internal\\backend\\numpy\\_utils.py:48: The name tf.logging.TaskLevelStatusMessage is deprecated. Please use tf.compat.v1.logging.TaskLevelStatusMessage instead.\n",
      "\n",
      "WARNING:tensorflow:From C:\\Users\\antoi\\Downloads\\GMCM-main\\GMCM-main\\myenv2\\Lib\\site-packages\\tensorflow_probability\\python\\internal\\backend\\numpy\\_utils.py:48: The name tf.control_flow_v2_enabled is deprecated. Please use tf.compat.v1.control_flow_v2_enabled instead.\n",
      "\n"
     ]
    }
   ],
   "source": [
    "import warnings\n",
    "warnings.filterwarnings('ignore')\n",
    "import numpy as np\n",
    "import scipy as sc\n",
    "import tensorflow as tf\n",
    "import tensorflow_probability as tfp\n",
    "tfd=tfp.distributions\n",
    "tfb=tfp.bijectors\n",
    "from scipy import io\n",
    "import time\n",
    "import matplotlib.pyplot as plt\n",
    "from sklearn import mixture\n",
    "import joblib as jbl\n",
    "import sys\n",
    "import sklearn\n",
    "import pandas as pd\n",
    "import seaborn as sns\n",
    "from pathlib import Path\n",
    "from mixture_models import GMCM, GMC\n",
    "import utils as utl\n",
    "import os\n",
    "from scipy.stats import multivariate_normal\n",
    "import rpy2\n",
    "from scipy.stats import norm"
   ]
  },
  {
   "cell_type": "code",
   "execution_count": 2,
   "id": "4401f431-0457-49e7-8c1e-eedfd894a468",
   "metadata": {},
   "outputs": [],
   "source": [
    "import random\n",
    "random.seed(291025)"
   ]
  },
  {
   "cell_type": "code",
   "execution_count": 3,
   "id": "585c0fa2-de4d-436f-9d14-5596d7a2dd7f",
   "metadata": {},
   "outputs": [],
   "source": [
    "os.chdir('C:\\\\Users\\\\antoi\\\\Documents\\\\UNIBE\\\\Conditioning\\\\Paper conditioning\\\\experiments')\n",
    "df = pd.read_csv(\"gmm_2d_new_parameters.csv\").iloc[:,1:3].astype('float32').to_numpy()"
   ]
  },
  {
   "cell_type": "code",
   "execution_count": 4,
   "id": "59ebadd0-1471-477f-98a9-c3ffb82f6b44",
   "metadata": {},
   "outputs": [
    {
     "name": "stdout",
     "output_type": "stream",
     "text": [
      "Number of samples = 1000, Number of dimensions = 2\n",
      "Learning Marginals\n",
      "Marginals learnt in 2.0 s.\n",
      "@ Iter:0,                         Training error: -5.8,                         Validation error: nan,                         Time Elapsed: 3.3 s\n",
      "@ Iter:1000,                         Training error: -5.8,                         Validation error: nan,                         Time Elapsed: 8.3 s\n",
      "@ Iter:2000,                         Training error: -5.7,                         Validation error: nan,                         Time Elapsed: 13.4 s\n",
      "@ Iter:3000,                         Training error: -6.0,                         Validation error: nan,                         Time Elapsed: 18.4 s\n",
      "@ Iter:4000,                         Training error: -5.8,                         Validation error: nan,                         Time Elapsed: 23.5 s\n",
      "@ Iter:5000,                         Training error: -5.8,                         Validation error: nan,                         Time Elapsed: 29.6 s\n",
      "@ Iter:6000,                         Training error: -5.7,                         Validation error: nan,                         Time Elapsed: 34.9 s\n"
     ]
    }
   ],
   "source": [
    "data_trn,data_vld,data_tst = utl.splitData(df)\n",
    "n_comps=2\n",
    "nsamps,ndims = df.shape\n",
    "print(f'Number of samples = {nsamps}, Number of dimensions = {ndims}')\n",
    "\n",
    "gmcm = GMCM(ndims)\n",
    "gmcm.fit_dist_IFM(data_trn,\n",
    "                 n_comps=n_comps,\n",
    "                 method=\"GMCM\",\n",
    "                 data_vld= None,# fixed number of components\n",
    "                                    batch_size=10,\n",
    "                                    max_iters=6001,\n",
    "                                    regularize=True,\n",
    "                                    init = 'gmm', #(init option: 'gmm' warm starts gmcm learning compared to 'random')\n",
    "                                    print_interval=1000)"
   ]
  },
  {
   "cell_type": "code",
   "execution_count": 5,
   "id": "937bd8b0-11c9-4e10-afea-5364a3df7511",
   "metadata": {},
   "outputs": [],
   "source": [
    "list_indexes =  range(ndims)    ## depends on the problem\n",
    "logits,mus,covs,_ = utl.vec2gmm_params(gmcm.ndims,gmcm.ncomps,gmcm.gmc.params)\n",
    "alphas = tf.math.softmax(logits)\n",
    "#dim_remove = list(set(list(range(self.ndims)))-set(dim_list))\n",
    "mus_new = tf.gather(mus,list_indexes, axis=1)\n",
    "covs_new = tf.TensorArray(tf.float32,gmcm.ncomps)\n",
    "for k in range(gmcm.ncomps):\n",
    "    temp_mat = covs[k].numpy()\n",
    "    covs_new = covs_new.write(k,temp_mat[np.ix_(list_indexes, list_indexes)])\n",
    "covs_new = covs_new.stack()"
   ]
  },
  {
   "cell_type": "code",
   "execution_count": 6,
   "id": "8416acaf-6f96-46db-b180-a662a4051270",
   "metadata": {},
   "outputs": [],
   "source": [
    "data_tst_uniform = gmcm.marg_bijector.inverse(data_tst)\n",
    "data_tst_latent = gmcm.gmc.distribution.bijector.inverse(data_tst_uniform)"
   ]
  },
  {
   "cell_type": "code",
   "execution_count": 7,
   "id": "e93ff221-e87d-4c6d-98e4-bc853600f718",
   "metadata": {},
   "outputs": [],
   "source": [
    "dimension_predict = 1\n",
    "dimension_joint = ndims"
   ]
  },
  {
   "cell_type": "code",
   "execution_count": 8,
   "id": "9b1e9b1c-31f8-4602-ac97-06335b783435",
   "metadata": {},
   "outputs": [],
   "source": [
    "parameters = []\n",
    "size_test = np.shape(data_tst)[0] # size of the test dataset\n",
    "n_samples = 1000 # number of samples from the conditional distribution that we want to get\n",
    "cond_samples_gmcm = []\n",
    "for i in range(0,size_test):\n",
    "    risk_vector_gmcm = np.zeros((n_samples,dimension_joint))\n",
    "    conditioning_value = data_tst_latent[i,dimension_predict:dimension_joint]\n",
    "    new_alphas = np.zeros(n_comps)\n",
    "    mean_conds = np.zeros(n_comps)\n",
    "    cov_conds = np.zeros(n_comps)\n",
    "    # get new weights\n",
    "    for j in range(0,n_comps):\n",
    "        marginal = multivariate_normal.pdf(conditioning_value, mean= mus_new[j][dimension_predict:dimension_joint], \n",
    "                                           cov=covs_new[j][dimension_predict:dimension_joint,dimension_predict:dimension_joint])\n",
    "        joint = 0\n",
    "        for k in range(0,n_comps):\n",
    "            joint += alphas[k] * multivariate_normal.pdf(conditioning_value, mean= mus_new[k][dimension_predict:dimension_joint], \n",
    "                                           cov=covs_new[k][dimension_predict:dimension_joint,dimension_predict:dimension_joint])\n",
    "        if joint != 0:\n",
    "            new_alphas[j] = alphas[j] * (marginal / joint)\n",
    "        else:\n",
    "            new_alphas[j] = 0\n",
    "        mean_vector = mus_new[j]\n",
    "        cov_matrix = covs_new[j]\n",
    "        mean_conds[j] = mean_vector[:dimension_predict] + np.dot(cov_matrix[:dimension_predict, dimension_predict:dimension_joint] \\\n",
    "            @ np.linalg.inv(cov_matrix[dimension_predict:dimension_joint, dimension_predict:dimension_joint]),\n",
    "            (np.array(conditioning_value) - mean_vector[dimension_predict:dimension_joint]))\n",
    "        cov_conds[j] = cov_matrix[:dimension_predict, :dimension_predict] - cov_matrix[:dimension_predict, dimension_predict:dimension_joint] \\\n",
    "            @ np.linalg.solve(cov_matrix[dimension_predict:dimension_joint, dimension_predict:dimension_joint],\n",
    "            cov_matrix[dimension_predict:dimension_joint, :dimension_predict])\n",
    "    for n in range(0,n_samples):\n",
    "        new_component = np.argmax(np.random.multinomial(1, pvals=new_alphas))  # Find the index of the maximum value\n",
    "        mean_vector = mus_new[new_component]\n",
    "        cov_matrix = covs_new[new_component]\n",
    "        mean_cond = mean_vector[:dimension_predict] + np.dot(cov_matrix[:dimension_predict, dimension_predict:dimension_joint] \\\n",
    "            @ np.linalg.inv(cov_matrix[dimension_predict:dimension_joint, dimension_predict:dimension_joint]),\n",
    "            (np.array(conditioning_value) - mean_vector[dimension_predict:dimension_joint]))\n",
    "        cov_cond = cov_matrix[:dimension_predict, :dimension_predict] - cov_matrix[:dimension_predict, dimension_predict:dimension_joint] \\\n",
    "            @ np.linalg.solve(cov_matrix[dimension_predict:dimension_joint, dimension_predict:dimension_joint],\n",
    "            cov_matrix[dimension_predict:dimension_joint, :dimension_predict])\n",
    "    \n",
    "        result = np.random.multivariate_normal(mean=mean_cond, cov=cov_cond)\n",
    "        risk_vector_gmcm[n,0:dimension_predict] = result\n",
    "    risk_vector_gmcm[:,dimension_predict:dimension_joint] =conditioning_value\n",
    "    risk_vector_gmcm = risk_vector_gmcm.astype('float32')\n",
    "    risk_vector_gmcm = gmcm.gmc.distribution.bijector(risk_vector_gmcm)\n",
    "    risk_vector_gmcm = gmcm.marg_bijector(risk_vector_gmcm)\n",
    "    cond_samples_gmcm.append(risk_vector_gmcm)\n",
    "    parameters.append([new_alphas,mean_conds,cov_conds])"
   ]
  },
  {
   "cell_type": "markdown",
   "id": "7faf55ab-d838-4f4b-b362-5291b7c8ba57",
   "metadata": {},
   "source": [
    "Build the estimated cdfs"
   ]
  },
  {
   "cell_type": "code",
   "execution_count": 9,
   "id": "9f9ae09b-b2ae-455c-9a7b-5dd47a8cc192",
   "metadata": {},
   "outputs": [],
   "source": [
    "a=np.linspace(-7,10,100)\n",
    "grid = np.column_stack((a,a))\n",
    "grid = grid.astype('float32')\n",
    "grid = gmcm.marg_bijector.inverse(grid)\n",
    "grid = gmcm.gmc.distribution.bijector.inverse(grid)\n",
    "\n",
    "cdfs = []\n",
    "for i in range(0,size_test):\n",
    "     conditioned_mixture = tfd.MixtureSameFamily(tfd.Categorical(probs=parameters[i][0]),\n",
    "                                          tfd.Normal(loc=parameters[i][1],scale=np.sqrt(parameters[i][2])))\n",
    "     cdfs.append([tfd.MixtureSameFamily.cdf(conditioned_mixture,x).numpy() for x in  grid.numpy()[:,0]])"
   ]
  },
  {
   "cell_type": "markdown",
   "id": "7030f912-c134-4b1b-be43-4e68939f4538",
   "metadata": {},
   "source": [
    "Function to compute the conditional cdf of a GMM"
   ]
  },
  {
   "cell_type": "code",
   "execution_count": 10,
   "id": "ade019f6-50bf-4e39-8048-42cd6940d656",
   "metadata": {},
   "outputs": [],
   "source": [
    "def compute_analytical_cdf_conditioned_mixture(x,y,means,covariances, weight,K, dimension_joint, dimension_predict):\n",
    "    density = 0\n",
    "    new_alphas = np.zeros(K)\n",
    "    for i in range(0,K):\n",
    "        marginal = multivariate_normal.pdf(x, mean= means[i][dimension_predict:dimension_joint], \n",
    "                                           cov=np.sqrt(covariances[i][dimension_predict:dimension_joint,dimension_predict:dimension_joint]))\n",
    "        joint = 0\n",
    "        for k in range(0,K):\n",
    "            joint += weight[k] * multivariate_normal.pdf(x, mean= means[k][dimension_predict:dimension_joint], \n",
    "                                           cov=np.sqrt(covariances[k][dimension_predict:dimension_joint,dimension_predict:dimension_joint]))\n",
    "        if joint != 0:\n",
    "            new_alphas[i] = weight[i] * (marginal / joint)\n",
    "        else:\n",
    "            new_alphas[i] = 0\n",
    "        mean_vector = means[i]\n",
    "        cov_matrix = covariances[i]\n",
    "        mean_cond = mean_vector[:dimension_predict] + np.dot(cov_matrix[:dimension_predict, dimension_predict:dimension_joint] \\\n",
    "            @ np.linalg.inv(cov_matrix[dimension_predict:dimension_joint, dimension_predict:dimension_joint]),\n",
    "            (np.array(x) - mean_vector[dimension_predict:dimension_joint]))\n",
    "        cov_cond = cov_matrix[:dimension_predict, :dimension_predict] - cov_matrix[:dimension_predict, dimension_predict:dimension_joint] \\\n",
    "            @ np.linalg.solve(cov_matrix[dimension_predict:dimension_joint, dimension_predict:dimension_joint],\n",
    "            cov_matrix[dimension_predict:dimension_joint, :dimension_predict])\n",
    "        density += new_alphas[i] * multivariate_normal.cdf(x=y, mean=mean_cond, cov=np.sqrt(cov_cond))\n",
    "    return (density)"
   ]
  },
  {
   "cell_type": "markdown",
   "id": "adf5a891-cb3e-445f-8c33-b7b975e6b56b",
   "metadata": {},
   "source": [
    "Compute analytically the cdfs at some test points"
   ]
  },
  {
   "cell_type": "code",
   "execution_count": 11,
   "id": "93620859-bf5e-4b07-9f58-2e82a9d93672",
   "metadata": {},
   "outputs": [],
   "source": [
    "means = np.array([[4,2],[-2,1]])\n",
    "covariances = np.array([[[2,1],[1,1]],[[1,0.5],[0.5,1]]])\n",
    "weight = np.array([0.3,0.7])\n",
    "X = np.linspace(-7,10,100)\n",
    "Y_1 = [compute_analytical_cdf_conditioned_mixture(y=z,x=data_tst[1,1],means=means,covariances=covariances, weight=weight,K=2, dimension_joint=2, dimension_predict=1) for z in X]\n",
    "Y_2 = [compute_analytical_cdf_conditioned_mixture(y=z,x=data_tst[2,1],means=means,covariances=covariances, weight=weight,K=2, dimension_joint=2, dimension_predict=1) for z in X]\n",
    "Y_55 = [compute_analytical_cdf_conditioned_mixture(y=z,x=data_tst[55,1],means=means,covariances=covariances, weight=weight,K=2, dimension_joint=2, dimension_predict=1) for z in X]\n",
    "Y_60 = [compute_analytical_cdf_conditioned_mixture(y=z,x=data_tst[60,1],means=means,covariances=covariances, weight=weight,K=2, dimension_joint=2, dimension_predict=1) for z in X]\n",
    "y_55=cdfs[55]\n",
    "y_2 = cdfs[2]\n",
    "y_1= cdfs[1]\n",
    "y_60 = cdfs[60]"
   ]
  },
  {
   "cell_type": "markdown",
   "id": "55cf7164-20ab-4ccc-9712-dc37aa393ee4",
   "metadata": {},
   "source": [
    "Plot the obtained conditional cdfs"
   ]
  },
  {
   "cell_type": "code",
   "execution_count": 12,
   "id": "c8b52247-13ee-4461-ba1e-581da6c5be6b",
   "metadata": {},
   "outputs": [
    {
     "data": {
      "image/png": "[encoded data removed]",
      "text/plain": [
       "<Figure size 640x480 with 4 Axes>"
      ]
     },
     "metadata": {},
     "output_type": "display_data"
    }
   ],
   "source": [
    "x_1 = r\"x_{1}\"\n",
    "#z =latex2sympy(x_1)\n",
    "x_55 = np.round(data_tst[55,1],2)\n",
    "x_60 = np.round(data_tst[60,1],2)\n",
    "x_2 = np.round(data_tst[2,1],2)\n",
    "x_1 = np.round(data_tst[1,1],2)\n",
    "fig, axs = plt.subplots(2, 2)\n",
    "axs[0, 0].plot(X, y_55, color=\"red\", label=\"True CDF\")\n",
    "axs[0, 0].plot(X, Y_55, color=\"blue\", label=\"GMCM\")\n",
    "axs[0, 0].set_title(r'Conditioning at $x_{2}$ = %s'%(x_55))\n",
    "axs[0, 1].plot(X, y_1, color=\"red\", label=\"True CDF\")\n",
    "axs[0, 1].plot(X, Y_1, color=\"blue\", label=\"GMCM\")\n",
    "axs[0, 1].set_title(r'Conditioning at $x_{2}$ =  %s'%(x_1))\n",
    "axs[1, 0].plot(X, y_2, color=\"red\",label=\"True CDF\")\n",
    "axs[1, 0].plot(X, Y_2, color=\"blue\", label=\"GMCM\")\n",
    "axs[1, 0].set_title('Conditioning at $x_{2}$= %s'%(x_2))\n",
    "axs[1, 1].plot(X, y_60, color=\"red\",label=\"True CDF\")\n",
    "axs[1, 1].plot(X, Y_60, color=\"blue\", label=\"GMCM\")\n",
    "axs[1, 1].set_title('Conditioning at $x_{2}$ = %s'%(x_60))\n",
    "\n",
    "for ax in axs.flat:\n",
    "    ax.set(xlabel=r'$x_{1}$', ylabel=r'$x_{2}$')\n",
    "\n",
    "# Hide x labels and tick labels for top plots and y ticks for right plots.\n",
    "for ax in axs.flat:\n",
    "    ax.label_outer()\n",
    "handles, labels = ax.get_legend_handles_labels()\n",
    "fig.legend(handles, labels, loc=(0.45,0.20))\n",
    "plt.show()\n",
    "#plt.savefig(\"simple_cdf_conditioning.png\")"
   ]
  },
  {
   "cell_type": "markdown",
   "id": "512d2b69-8219-4b0d-9901-6634580e9feb",
   "metadata": {},
   "source": [
    "Competitors"
   ]
  },
  {
   "cell_type": "code",
   "execution_count": 13,
   "id": "acad8fd3-7ff5-4b4a-a7ed-6f37a6401a26",
   "metadata": {},
   "outputs": [
    {
     "name": "stdout",
     "output_type": "stream",
     "text": [
      "Number of samples = 1000, Number of dimensions = 2\n",
      "Learning Marginals\n",
      "Marginals learnt in 1.53 s.\n"
     ]
    }
   ],
   "source": [
    "n_comps=1\n",
    "nsamps,ndims = df.shape\n",
    "print(f'Number of samples = {nsamps}, Number of dimensions = {ndims}')\n",
    "\n",
    "gc= GMCM(ndims)\n",
    "gc.fit_dist_IFM(data_trn,\n",
    "                 n_comps=n_comps,\n",
    "                 method=\"GC\",\n",
    "                 data_vld= None,# fixed number of components\n",
    "                                    batch_size=10,\n",
    "                                    max_iters=6001,\n",
    "                                    regularize=True,\n",
    "                                    init = 'gmm', #(init option: 'gmm' warm starts gmcm learning compared to 'random')\n",
    "                                    print_interval=1000)"
   ]
  },
  {
   "cell_type": "code",
   "execution_count": 14,
   "id": "4eeccb82-e563-4e4f-b608-abfccb0fc5ad",
   "metadata": {},
   "outputs": [],
   "source": [
    "list_indexes = [0,1] ## depends on the problem\n",
    "logits,mus,covs,_ = utl.vec2gmm_params(gc.ndims,gc.ncomps,gc.gmc.params)\n",
    "alphas = tf.math.softmax(logits)\n",
    "#dim_remove = list(set(list(range(self.ndims)))-set(dim_list))\n",
    "mus_new = tf.gather(mus,list_indexes, axis=1)\n",
    "covs_new = tf.TensorArray(tf.float32,gc.ncomps)\n",
    "for k in range(gc.ncomps):\n",
    "    temp_mat = covs[k].numpy()\n",
    "    covs_new = covs_new.write(k,temp_mat[np.ix_(list_indexes, list_indexes)])\n",
    "covs_new = covs_new.stack()"
   ]
  },
  {
   "cell_type": "code",
   "execution_count": 15,
   "id": "0643951b-dd4e-4dd6-852e-fd9a87066ed2",
   "metadata": {},
   "outputs": [],
   "source": [
    "data_trn_uniform = gc.marg_bijector.inverse(data_trn)\n",
    "data_trn_latent = norm.ppf(data_trn_uniform)"
   ]
  },
  {
   "cell_type": "code",
   "execution_count": 16,
   "id": "13c30bb8-a041-4f95-b231-5dd587f7a927",
   "metadata": {},
   "outputs": [
    {
     "data": {
      "text/plain": [
       "array([[-1.66990864, -0.97892499],\n",
       "       [ 0.20010726, -0.01193011],\n",
       "       [-0.10808492,  0.45640692],\n",
       "       ...,\n",
       "       [ 0.99164671,  1.90208614],\n",
       "       [-0.61436146, -0.10708898],\n",
       "       [-1.30932212, -1.66625082]])"
      ]
     },
     "execution_count": 16,
     "metadata": {},
     "output_type": "execute_result"
    }
   ],
   "source": [
    "data_trn_latent"
   ]
  },
  {
   "cell_type": "code",
   "execution_count": 17,
   "id": "404ec915-854f-418b-8b6a-6c1a2ec56fbd",
   "metadata": {},
   "outputs": [],
   "source": [
    "#cov_matrix = covs_new[0].numpy()\n",
    "data_trn_uniform = gc.marg_bijector.inverse(data_trn)\n",
    "data_trn_latent = norm.ppf(data_trn_uniform)\n",
    "mean_vector = np.mean(data_trn_latent, axis=0)\n",
    "cov_matrix = np.cov(data_trn_latent, rowvar=False)\n",
    "Sigma22 = cov_matrix[dimension_predict:dimension_joint, dimension_predict:dimension_joint]\n",
    "Sigma12 = cov_matrix[:dimension_predict, dimension_predict:dimension_joint]\n",
    "Sigma11 = cov_matrix[:dimension_predict, :dimension_predict]\n",
    "Sigma22_inv = np.linalg.inv(Sigma22)\n",
    "Sigma12_Sigma22_inv = Sigma12 @ Sigma22_inv\n",
    "cov_cond = Sigma11 - Sigma12_Sigma22_inv @ Sigma12.T\n",
    "from scipy.stats import norm, multivariate_normal as mvn\n",
    "method = \"GC\"\n",
    "if method == \"GC\":\n",
    "    data_tst_uniform = gc.marg_bijector.inverse(data_tst)\n",
    "    data_tst_latent = norm.ppf(data_tst_uniform)\n",
    "    #mean_vector = mus_new[0]\n",
    "    #mean_vector = np.mean(data_trn_latent)\n",
    "    #cov_matrix = n\n",
    "    dimension_predict = 1 # dimension of the vector that we want to predict\n",
    "    dimension_joint = 2 # dimension of the joint distribution\n",
    "    size_test = np.shape(data_tst)[0] # size of the test dataset\n",
    "    n_samples = 1000 # number of samples from the conditional distribution that we want to get\n",
    "    cond_samples_gc = []\n",
    "    #cov_matrix = covs_new[0]\n",
    "    for index in range(data_tst_latent.shape[0]):\n",
    "        risk_vector_gmcm = np.zeros((n_samples,dimension_joint))\n",
    "        conditioning_value = data_tst_latent[index,dimension_predict:dimension_joint]\n",
    "        conditioning_diff = conditioning_value - mean_vector[dimension_predict:dimension_joint]\n",
    "        conditioning_diff = conditioning_diff[:, np.newaxis]\n",
    "        mean_cond_batch = mean_vector[:dimension_predict] + (Sigma12_Sigma22_inv @ conditioning_diff).flatten()\n",
    "        # generate Normal data (in latent space) with required mean and sigma\n",
    "        samples = np.random.multivariate_normal(mean = mean_cond_batch, cov = cov_cond, size = n_samples)\n",
    "        risk_vector_gmcm[:, :dimension_predict] = samples\n",
    "        risk_vector_gmcm[:,dimension_predict:dimension_joint] = conditioning_value\n",
    "        risk_vector_gmcm = risk_vector_gmcm.astype('float32')\n",
    "        risk_vector_gmcm = norm.cdf(risk_vector_gmcm).astype(\"float32\")\n",
    "        risk_vector_gmcm = gc.marg_bijector(risk_vector_gmcm)\n",
    "        cond_samples_gc.append(risk_vector_gmcm)"
   ]
  },
  {
   "cell_type": "code",
   "execution_count": 18,
   "id": "cb38df73-8e59-4428-b243-38c8957c8afd",
   "metadata": {},
   "outputs": [
    {
     "name": "stdout",
     "output_type": "stream",
     "text": [
      "Number of samples = 1000, Number of dimensions = 2\n",
      "Learning Marginals\n",
      "Marginals learnt in 1.59 s.\n"
     ]
    }
   ],
   "source": [
    "\n",
    "n_comps=2\n",
    "nsamps,ndims = df.shape\n",
    "print(f'Number of samples = {nsamps}, Number of dimensions = {ndims}')\n",
    "\n",
    "tgmm = GMCM(ndims)\n",
    "tgmm.fit_dist_IFM(data_trn,\n",
    "                 n_comps=n_comps,\n",
    "                 method=\"TGMM\",\n",
    "                 data_vld= None,# fixed number of components\n",
    "                                    batch_size=10,\n",
    "                                    max_iters=6001,\n",
    "                                    regularize=True,\n",
    "                                    init = 'gmm', #(init option: 'gmm' warm starts gmcm learning compared to 'random')\n",
    "                                    print_interval=1000)"
   ]
  },
  {
   "cell_type": "code",
   "execution_count": 19,
   "id": "8af2eaab-9641-481c-9e55-9431f848358a",
   "metadata": {},
   "outputs": [],
   "source": [
    "list_indexes = [0,1] ## depends on the problem\n",
    "logits,mus,covs,_ = utl.vec2gmm_params(tgmm.ndims,tgmm.ncomps,tgmm.gmc.params)\n",
    "alphas = tf.math.softmax(logits)\n",
    "#dim_remove = list(set(list(range(self.ndims)))-set(dim_list))\n",
    "mus_new = tf.gather(mus,list_indexes, axis=1)\n",
    "covs_new = tf.TensorArray(tf.float32,tgmm.ncomps)\n",
    "for k in range(tgmm.ncomps):\n",
    "    temp_mat = covs[k].numpy()\n",
    "    covs_new = covs_new.write(k,temp_mat[np.ix_(list_indexes, list_indexes)])\n",
    "covs_new = covs_new.stack()"
   ]
  },
  {
   "cell_type": "code",
   "execution_count": 20,
   "id": "8aa2ef90-5696-4194-95a0-107bd04f15d3",
   "metadata": {},
   "outputs": [],
   "source": [
    "method = \"TGMM\"\n",
    "Sigma22_inv_list = []\n",
    "Sigma12_Sigma22_inv_list = []\n",
    "cov_cond_list = []\n",
    "for j in range(n_comps):\n",
    "    cov_matrix = covs_new[j].numpy()\n",
    "    Sigma22 = cov_matrix[dimension_predict:dimension_joint, dimension_predict:dimension_joint]\n",
    "    Sigma12 = cov_matrix[:dimension_predict, dimension_predict:dimension_joint]\n",
    "    Sigma11 = cov_matrix[:dimension_predict, :dimension_predict]\n",
    "    Sigma22_inv = np.linalg.inv(Sigma22)\n",
    "    Sigma12_Sigma22_inv = Sigma12 @ Sigma22_inv\n",
    "    cov_cond = Sigma11 - Sigma12_Sigma22_inv @ Sigma12.T\n",
    "    Sigma12_Sigma22_inv_list.append(Sigma12_Sigma22_inv)\n",
    "    cov_cond_list.append(cov_cond)\n",
    "if method == \"TGMM\":\n",
    "    data_tst_uniform = tgmm.marg_bijector.inverse(data_tst)\n",
    "    data_tst_latent = norm.ppf(data_tst_uniform)\n",
    "    dimension_predict = 1 # dimension of the vector that we want to predict\n",
    "    dimension_joint = 2 # dimension of the joint distribution\n",
    "    size_test = np.shape(data_tst)[0] # size of the test dataset\n",
    "    n_samples = 1000 # number of samples from the conditional distribution that we want to get\n",
    "    cond_samples_tgmm= []\n",
    "    for i in range(0,size_test):\n",
    "        risk_vector_gmcm = np.zeros((n_samples,dimension_joint))\n",
    "        conditioning_value = data_tst_latent[i,dimension_predict:dimension_joint]\n",
    "        new_alphas = np.zeros(n_comps)\n",
    "        # get new weights\n",
    "        for j in range(0,n_comps):\n",
    "            marginal = multivariate_normal.pdf(conditioning_value, mean= mus_new[j][dimension_predict:dimension_joint], \n",
    "                                           cov=covs_new[j][dimension_predict:dimension_joint,dimension_predict:dimension_joint])\n",
    "            joint = 0\n",
    "            for k in range(0,n_comps):\n",
    "                joint += alphas[k] * multivariate_normal.pdf(conditioning_value, mean= mus_new[k][dimension_predict:dimension_joint], \n",
    "                                           cov=covs_new[k][dimension_predict:dimension_joint,dimension_predict:dimension_joint])\n",
    "            if joint != 0:\n",
    "                new_alphas[j] = alphas[j] * (marginal / joint)\n",
    "            else:\n",
    "                new_alphas[j] = 0\n",
    "        new_alphas /= new_alphas.sum()\n",
    "        component_choices = np.random.choice(n_comps, size = n_samples, p = new_alphas)\n",
    "        risk_vector_gmcm = np.zeros((n_samples, dimension_joint))\n",
    "        for j in range(0, n_comps):\n",
    "            mask = component_choices == j\n",
    "            n_j = np.sum(mask)\n",
    "            if n_j == 0:\n",
    "                continue\n",
    "            mean_vector = mus_new[j].numpy()\n",
    "            Sigma12_Sigma22_inv = Sigma12_Sigma22_inv_list[j]\n",
    "            cov_cond = cov_cond_list[j]\n",
    "            conditioning_diff = conditioning_value - mean_vector[dimension_predict:dimension_joint]\n",
    "            conditioning_diff = conditioning_diff[:, np.newaxis]\n",
    "            mean_cond_batch = mean_vector[:dimension_predict] + (Sigma12_Sigma22_inv @ conditioning_diff).flatten()\n",
    "            # generate Normal data (in latent space) with required mean and sigma\n",
    "            samples = np.random.multivariate_normal(mean = mean_cond_batch, cov = cov_cond, size = n_j)\n",
    "            risk_vector_gmcm[mask, :dimension_predict] = samples\n",
    "    \n",
    "        risk_vector_gmcm[:, dimension_predict:dimension_joint] = conditioning_value\n",
    "        risk_vector_gmcm = risk_vector_gmcm.astype('float32')\n",
    "        risk_vector_gmcm = norm.cdf(risk_vector_gmcm).astype(\"float32\")\n",
    "        risk_vector_gmcm = tgmm.marg_bijector(risk_vector_gmcm)\n",
    "        cond_samples_tgmm.append(risk_vector_gmcm)"
   ]
  },
  {
   "cell_type": "code",
   "execution_count": 21,
   "id": "f77550ad-c47e-4b7f-83cb-ce060c385b48",
   "metadata": {},
   "outputs": [],
   "source": [
    "from sklearn.neighbors import KernelDensity\n",
    "# Split the training data\n",
    "Y_train = np.reshape(data_trn[:, 0],(np.shape(data_trn)[0],1))  # First three columns (targets)\n",
    "X_train = np.reshape(data_trn[:, 1],(np.shape(data_trn)[0],1))  # Last two columns (features)\n",
    "\n",
    "# Combine both Y and X for KDE fitting\n",
    "train_data = data_trn\n",
    "\n",
    "# Split the test data\n",
    "X_test = data_tst[:, 1]  # Last two columns in test data\n",
    "\n",
    "#### Step 2: Fit KDE Model\n",
    "\n",
    "\n",
    "# Fit the KDE model on the joint data\n",
    "kde = KernelDensity(kernel='gaussian', bandwidth=1.0).fit(train_data)\n",
    "\n",
    "\n",
    "#### Step 3: Generate Samples from the Conditional Distribution\n",
    "\n",
    "def conditional_sample_kde(kde, X_cond, num_samples=10, tol=0.1):\n",
    "    \"\"\"\n",
    "    Generate samples from the conditional distribution P(Y|X) using the fitted KDE.\n",
    "\n",
    "    Parameters:\n",
    "    kde -- fitted KernelDensity model\n",
    "    X_cond -- ndarray of shape (n_samples, n_features)\n",
    "    num_samples -- number of samples to draw for each condition\n",
    "    tol -- tolerance to filter X samples close to X_cond\n",
    "\n",
    "    Returns:\n",
    "    samples -- ndarray of shape (n_samples, num_samples, n_targets)\n",
    "    \"\"\"\n",
    "               \n",
    "    n_targets = Y_train.shape[1]\n",
    "    n_features = X_train.shape[1]\n",
    "    \n",
    "    samples = np.zeros((X_cond.shape[0], num_samples, n_targets))\n",
    "\n",
    "    for i, x in enumerate(X_cond):\n",
    "        # Generate samples from KDE\n",
    "        joint_samples = kde.sample(num_samples * 100)  # Oversample initially\n",
    "        \n",
    "        # Split into Y and X parts\n",
    "        Y_samples = joint_samples[:, :n_targets]\n",
    "        X_samples = joint_samples[:, n_targets:]\n",
    "        \n",
    "        # Filter samples where X_samples are close to the given X_cond\n",
    "        close_samples_idx = np.all(np.abs(X_samples - x) < tol, axis=1)\n",
    "        close_Y_samples = Y_samples[close_samples_idx]\n",
    "        \n",
    "        if len(close_Y_samples) < num_samples:\n",
    "            raise ValueError(\"Not enough samples within tolerance. Increase tol or num_samples.\")\n",
    "\n",
    "        # Randomly choose the needed number of samples\n",
    "        chosen_indices = np.random.choice(len(close_Y_samples), num_samples, replace=False)\n",
    "        samples[i, :, :] = close_Y_samples[chosen_indices]\n",
    "\n",
    "    return samples\n",
    "\n",
    "# Generate samples from the conditional distribution\n",
    "num_samples_per_condition = 1000 # Number of samples to draw for each test example\n",
    "tol = 0.4# Tolerance to filter samples; adjust as needed\n",
    "samples = conditional_sample_kde(kde, X_test, num_samples=num_samples_per_condition, tol=tol)"
   ]
  },
  {
   "cell_type": "code",
   "execution_count": 22,
   "id": "e47c06ff-1fc5-47d2-9a2e-a885e41fc1d3",
   "metadata": {},
   "outputs": [],
   "source": [
    "def logs_ensemble(obs, fct, m_axis=-1, bw=None):\n",
    "    # Move ensemble dimension to the last axis if not already\n",
    "    fct = np.moveaxis(fct, m_axis, -1)\n",
    "    M = fct.shape[-1]\n",
    "\n",
    "    # Silverman's rule of thumb for bandwidth if not provided\n",
    "    if bw is None:\n",
    "        sigmahat = np.std(fct, axis=-1)\n",
    "        q75 = np.quantile(fct, 0.75, axis=-1)\n",
    "        q25 = np.quantile(fct, 0.25, axis=-1)\n",
    "        iqr = q75 - q25\n",
    "        bw = 1.06 * np.minimum(sigmahat, iqr / 1.34) * (M ** (-1 / 5))\n",
    "        \n",
    "    bw = np.repeat(bw[..., np.newaxis], M, axis=-1)\n",
    "\n",
    "    # Weights for each ensemble member\n",
    "    w = np.ones(fct.shape) / M\n",
    "\n",
    "    # Compute Gaussian log density\n",
    "    def gaussian_log_pdf(x, mean, scale):\n",
    "        return -0.5 * np.log(2 * np.pi * scale**2) - ((x - mean) ** 2) / (2 * scale**2)\n",
    "\n",
    "    # Logarithmic score calculation for each observation\n",
    "    log_scores = np.empty_like(obs, dtype=float)\n",
    "    for i, x in np.ndenumerate(obs):\n",
    "        log_density = np.log(np.sum(\n",
    "            w[i] * np.exp(gaussian_log_pdf(x, fct[i], bw[i]))\n",
    "        ))\n",
    "        log_scores[i] = log_density\n",
    "\n",
    "    return -log_scores"
   ]
  },
  {
   "cell_type": "code",
   "execution_count": null,
   "id": "73e34544-56a2-454d-a927-51b562c16f55",
   "metadata": {},
   "outputs": [],
   "source": []
  },
  {
   "cell_type": "code",
   "execution_count": 23,
   "id": "b0729d9b-e476-4bf8-8482-8316f91af71b",
   "metadata": {},
   "outputs": [],
   "source": [
    "import scoringrules as sr\n",
    "crps_score_gmcm = []\n",
    "logs_score_gmcm = []\n",
    "logs_score_gc = []\n",
    "logs_score_tgmm = []\n",
    "crps_score_gc = []\n",
    "logs_score_ckde = []\n",
    "crps_score_ckde= []\n",
    "crps_score_tgmm = []\n",
    "for i in range(size_test):\n",
    "    crps_score_gmcm.append(sr.crps_ensemble(data_tst[i,0:dimension_predict],\n",
    "    np.transpose(cond_samples_gmcm[i][:,0:dimension_predict])))\n",
    "    logs_score_gmcm.append(logs_ensemble(data_tst[i,0:dimension_predict],\n",
    "    np.transpose(cond_samples_gmcm[i][:,0:dimension_predict])))\n",
    "    crps_score_gc.append(sr.crps_ensemble(data_tst[i,0:dimension_predict],\n",
    "    np.transpose(cond_samples_gc[i][:,0:dimension_predict])))\n",
    "    logs_score_gc.append(logs_ensemble(data_tst[i,0:dimension_predict],\n",
    "    np.transpose(cond_samples_gc[i][:,0:dimension_predict])))\n",
    "    crps_score_tgmm.append(sr.crps_ensemble(data_tst[i,0:dimension_predict],\n",
    "    np.transpose(cond_samples_tgmm[i][:,0:dimension_predict])))\n",
    "    logs_score_tgmm.append(logs_ensemble(data_tst[i,0:dimension_predict],\n",
    "    np.transpose(cond_samples_tgmm[i][:,0:dimension_predict])))\n",
    "    crps_score_ckde.append(sr.crps_ensemble(data_tst[i,0:dimension_predict],\n",
    "    np.transpose(samples[i])))\n",
    "    logs_score_ckde.append(logs_ensemble(data_tst[i,0:dimension_predict],\n",
    "    np.transpose(samples[i])))"
   ]
  },
  {
   "cell_type": "code",
   "execution_count": 24,
   "id": "82e7e7e6-c093-41f9-9fd1-77de287d783d",
   "metadata": {},
   "outputs": [
    {
     "data": {
      "text/plain": [
       "1.2783068127846897"
      ]
     },
     "execution_count": 24,
     "metadata": {},
     "output_type": "execute_result"
    }
   ],
   "source": [
    "np.mean(crps_score_gmcm)"
   ]
  },
  {
   "cell_type": "code",
   "execution_count": 25,
   "id": "f7073e38-6233-45e8-8b2d-6e3ee9bb21ac",
   "metadata": {},
   "outputs": [
    {
     "data": {
      "text/plain": [
       "1.8725478692511677"
      ]
     },
     "execution_count": 25,
     "metadata": {},
     "output_type": "execute_result"
    }
   ],
   "source": [
    "np.mean(logs_score_gmcm)"
   ]
  },
  {
   "cell_type": "code",
   "execution_count": 26,
   "id": "89888d95-4a73-4eb4-8283-7fab2268a4e9",
   "metadata": {},
   "outputs": [
    {
     "data": {
      "text/plain": [
       "1.3745386692508978"
      ]
     },
     "execution_count": 26,
     "metadata": {},
     "output_type": "execute_result"
    }
   ],
   "source": [
    "np.mean(crps_score_ckde)"
   ]
  },
  {
   "cell_type": "code",
   "execution_count": 27,
   "id": "536c820d-35a1-4452-8600-e438baa4b5bf",
   "metadata": {},
   "outputs": [
    {
     "data": {
      "text/plain": [
       "1.2743953235450853"
      ]
     },
     "execution_count": 27,
     "metadata": {},
     "output_type": "execute_result"
    }
   ],
   "source": [
    "np.mean(crps_score_gc)"
   ]
  },
  {
   "cell_type": "code",
   "execution_count": 28,
   "id": "17c57993-b7b0-48d0-8639-9d3ef0212aae",
   "metadata": {},
   "outputs": [
    {
     "data": {
      "text/plain": [
       "1.2819320656296835"
      ]
     },
     "execution_count": 28,
     "metadata": {},
     "output_type": "execute_result"
    }
   ],
   "source": [
    "np.mean(crps_score_tgmm)"
   ]
  },
  {
   "cell_type": "code",
   "execution_count": 29,
   "id": "7a139bbb-1804-4a7a-a5a4-83c548d30546",
   "metadata": {},
   "outputs": [
    {
     "data": {
      "text/plain": [
       "1.9060124843457844"
      ]
     },
     "execution_count": 29,
     "metadata": {},
     "output_type": "execute_result"
    }
   ],
   "source": [
    "np.mean(logs_score_gc)"
   ]
  },
  {
   "cell_type": "code",
   "execution_count": 30,
   "id": "08805acc-81c8-4ab5-8ea6-7c0ae88d5312",
   "metadata": {},
   "outputs": [
    {
     "data": {
      "text/plain": [
       "1.3745386692508978"
      ]
     },
     "execution_count": 30,
     "metadata": {},
     "output_type": "execute_result"
    }
   ],
   "source": [
    "np.mean(crps_score_ckde)"
   ]
  },
  {
   "cell_type": "code",
   "execution_count": 31,
   "id": "8622a642-de88-4408-bd4d-b3427b34b4e8",
   "metadata": {},
   "outputs": [
    {
     "data": {
      "text/plain": [
       "2.118635820174284"
      ]
     },
     "execution_count": 31,
     "metadata": {},
     "output_type": "execute_result"
    }
   ],
   "source": [
    "np.mean(logs_score_ckde)"
   ]
  },
  {
   "cell_type": "code",
   "execution_count": null,
   "id": "8851a00e-17f1-45ce-8bb7-e330bd2438da",
   "metadata": {},
   "outputs": [],
   "source": []
  }
 ],
 "metadata": {
  "kernelspec": {
   "display_name": "myenv2",
   "language": "python",
   "name": "myenv2"
  },
  "language_info": {
   "codemirror_mode": {
    "name": "ipython",
    "version": 3
   },
   "file_extension": ".py",
   "mimetype": "text/x-python",
   "name": "python",
   "nbconvert_exporter": "python",
   "pygments_lexer": "ipython3",
   "version": "3.12.3"
  }
 },
 "nbformat": 4,
 "nbformat_minor": 5
}
